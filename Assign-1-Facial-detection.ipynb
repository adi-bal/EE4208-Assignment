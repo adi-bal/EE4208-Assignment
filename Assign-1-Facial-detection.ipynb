{
 "cells": [
  {
   "cell_type": "markdown",
   "id": "3e8134ef",
   "metadata": {},
   "source": [
    "# Facial Detection Model...."
   ]
  },
  {
   "cell_type": "code",
   "execution_count": 1,
   "id": "d1d132e2",
   "metadata": {},
   "outputs": [
    {
     "ename": "SyntaxError",
     "evalue": "invalid syntax (59032400.py, line 2)",
     "output_type": "error",
     "traceback": [
      "\u001b[1;36m  Cell \u001b[1;32mIn[1], line 2\u001b[1;36m\u001b[0m\n\u001b[1;33m    pip install opencv-python scikit-image\u001b[0m\n\u001b[1;37m        ^\u001b[0m\n\u001b[1;31mSyntaxError\u001b[0m\u001b[1;31m:\u001b[0m invalid syntax\n"
     ]
    }
   ],
   "source": [
    "# Install these into your terminal\n",
    "#pip install opencv-python scikit-image\n",
    "#pip install Pillow"
   ]
  },
  {
   "cell_type": "code",
   "execution_count": null,
   "id": "1132b9c2",
   "metadata": {},
   "outputs": [],
   "source": [
    "# Ensure images in target folder meet minimum resolution requirements\n",
    "from PIL import Image\n",
    "import os\n",
    "\n",
    "def check_min_resolution(image_path, min_width=90, min_height=90):\n",
    "    try:\n",
    "        with Image.open(image_path) as img:\n",
    "            width, height = img.size\n",
    "            return width >= min_width and height >= min_height\n",
    "    except Exception as e:\n",
    "        print(f\"Error processing {image_path}: {e}\")\n",
    "        return False\n",
    "\n",
    "def check_images_in_folder(folder_path):\n",
    "    valid_images = []\n",
    "\n",
    "    for filename in os.listdir(folder_path):\n",
    "        if filename.lower().endswith(('.jpg', '.jpeg', '.png')):\n",
    "            image_path = os.path.join(folder_path, filename)\n",
    "\n",
    "            if check_min_resolution(image_path):\n",
    "                valid_images.append(image_path)\n",
    "                print(f\"{filename} meets the minimum resolution requirement.\")\n",
    "            else:\n",
    "                print(f\"{filename} does not meet the minimum resolution requirement.\")\n",
    "\n",
    "    return valid_images\n",
    "\n",
    "\n",
    "folder_path = \"this text is a placeholder for your actual folder path\"\n",
    "\n",
    "if os.path.exists(folder_path):\n",
    "    valid_images = check_images_in_folder(folder_path)\n",
    "    print(f\"\\nValid images with minimum resolution: {len(valid_images)}\")\n",
    "else:\n",
    "    print(\"Invalid folder path.\")\n"
   ]
  },
  {
   "cell_type": "code",
   "execution_count": 3,
   "id": "f7d9a836",
   "metadata": {},
   "outputs": [],
   "source": [
    "import os\n",
    "import cv2\n",
    "from skimage import feature\n",
    "from sklearn.preprocessing import StandardScaler\n",
    "\n",
    "# Feature Extractor. Might want to consider adding more features to extract from the images \n",
    "def extract_features(image_path):\n",
    "    # Read the image\n",
    "    image = cv2.imread(image_path, cv2.IMREAD_GRAYSCALE)\n",
    "\n",
    "    # Extract Histogram of Oriented Gradients (HOG) features\n",
    "    hog_features = feature.hog(image, orientations=9, pixels_per_cell=(8, 8), cells_per_block=(2, 2), transform_sqrt=True, block_norm=\"L2-Hys\")\n",
    "\n",
    "    return hog_features\n",
    "\n",
    "def process_images_in_folder(folder_path):\n",
    "    feature_list = []\n",
    "    \n",
    "    # Loop through all files in the folder\n",
    "    for filename in os.listdir(folder_path):\n",
    "        if filename.endswith(('.jpg', '.png', '.jpeg')):  # Add more image file extensions if needed\n",
    "            image_path = os.path.join(folder_path, filename)\n",
    "            \n",
    "            # Extract features from the image\n",
    "            image_features = extract_features(image_path)\n",
    "            \n",
    "            # Append the features to the list\n",
    "            feature_list.append(image_features)\n",
    "\n",
    "    return feature_list\n",
    "\n",
    "\n"
   ]
  },
  {
   "cell_type": "code",
   "execution_count": null,
   "id": "85793b3c",
   "metadata": {},
   "outputs": [],
   "source": [
    "# Running earlier defined functions\n",
    "folder_path = \"this text is a placeholder for your actual folder path\"\n",
    "\n",
    "if os.path.exists(folder_path):\n",
    "    # Extract features from images in the specified folder\n",
    "    extracted_features = process_images_in_folder(folder_path)\n",
    "\n",
    "    # Standardize the features (optional but often recommended)\n",
    "    scaler = StandardScaler()\n",
    "    standardized_features = scaler.fit_transform(extracted_features)\n",
    "\n",
    "    # Now 'standardized_features' contains the extracted and standardized features\n",
    "    print(\"Feature extraction completed.\")\n",
    "else:\n",
    "    print(\"Invalid folder path.\")"
   ]
  },
  {
   "cell_type": "code",
   "execution_count": null,
   "id": "d276a93c",
   "metadata": {},
   "outputs": [],
   "source": [
    "# Might want to add additional feature preprocessing steps on features extracted\n",
    " "
   ]
  }
 ],
 "metadata": {
  "kernelspec": {
   "display_name": "Python 3 (ipykernel)",
   "language": "python",
   "name": "python3"
  },
  "language_info": {
   "codemirror_mode": {
    "name": "ipython",
    "version": 3
   },
   "file_extension": ".py",
   "mimetype": "text/x-python",
   "name": "python",
   "nbconvert_exporter": "python",
   "pygments_lexer": "ipython3",
   "version": "3.10.6"
  }
 },
 "nbformat": 4,
 "nbformat_minor": 5
}
