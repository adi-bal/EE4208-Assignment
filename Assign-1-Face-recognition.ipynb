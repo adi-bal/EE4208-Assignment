{
 "cells": [
  {
   "cell_type": "code",
   "execution_count": 3,
   "id": "c46c90c7-4709-4601-b59b-2cc6ef4f9988",
   "metadata": {},
   "outputs": [],
   "source": [
    "from sklearn.preprocessing import LabelEncoder\n",
    "from sklearn.model_selection import train_test_split\n",
    "from sklearn.metrics import classification_report\n",
    "import numpy as np\n",
    "import cv2\n",
    "import os"
   ]
  },
  {
   "cell_type": "code",
   "execution_count": 4,
   "id": "2a750650-3210-4d16-b898-e128770e8d3f",
   "metadata": {},
   "outputs": [],
   "source": [
    "def detect_faces(image):\n",
    "    face_classifier = cv2.CascadeClassifier(cv2.data.haarcascades + \"haarcascade_frontalface_default.xml\")\n",
    "    # detect face\n",
    "    face_pos = face_classifier.detectMultiScale(image, scaleFactor=1.1, minNeighbors=5, minSize=(40, 40))\n",
    "    return face_pos"
   ]
  },
  {
   "cell_type": "code",
   "execution_count": 5,
   "id": "c40cee3c-eeb5-4eef-9c6b-743c008203f2",
   "metadata": {},
   "outputs": [],
   "source": [
    "def process_image(image, x, y, w, h):\n",
    "    # extract the face ROI, resize it, and convert it to grayscale\n",
    "    face = image[y : y + h, x : x + w]\n",
    "    face = cv2.cvtColor(face, cv2.COLOR_BGR2GRAY)\n",
    "    return face"
   ]
  },
  {
   "cell_type": "code",
   "execution_count": null,
   "id": "fc5a8288-eca5-449c-84fc-656951dd4372",
   "metadata": {},
   "outputs": [],
   "source": [
    "def load_face_dataset(folder_path, min_samples = 1):\n",
    "    # get names from filename\n",
    "    names = []\n",
    "    for filename in os.listdir(folder_path):\n",
    "        name = filename.split(\"_\")[0]\n",
    "        names.append(name)\n",
    "    \n",
    "    # store unique names only\n",
    "    (names, name_counts) = np.unique(names, return_counts = True)\n",
    "    names = names.tolist()\n",
    "\t\n",
    "    # extract faces and associated labels\n",
    "    faces = []\n",
    "    labels = []\n",
    "    for filename in os.listdir(folder_path):\n",
    "        name = filename.split(\"_\")[0]\n",
    "        # check for minimum amount of samples\n",
    "        if name_counts[names.index(name)] < min_samples:\n",
    "            continue\n",
    "        \n",
    "        # load image\n",
    "        image_path = os.path.join(folder_path, filename)\n",
    "        image = cv2.imread(image_path)\n",
    "        # detect faces\n",
    "        face_pos = detect_faces(image)\n",
    "        for (x, y, w, h) in face_pos:\n",
    "            face = process_image(image, x, y, w, h)\n",
    "            faces.append(face)\n",
    "            labels.append(name)\n",
    "    \n",
    "    # convert lists to NumPy arrays\n",
    "    faces = np.array(faces, dtype=\"object\")\n",
    "    labels = np.array(labels)\n",
    "    # return a 2-tuple of the faces and labels\n",
    "    return (faces, labels)"
   ]
  },
  {
   "cell_type": "code",
   "execution_count": null,
   "id": "8dbc6e9f",
   "metadata": {},
   "outputs": [],
   "source": [
    "def recognize_LBPH(trainX, trainY, testX, testY):\n",
    "    # train recognizer\n",
    "    recognizer = cv2.face.LBPHFaceRecognizer_create(radius=2, neighbors=16, grid_x=8, grid_y=8)\n",
    "    recognizer.train(trainX, trainY)\n",
    "    \n",
    "    predictions = []\n",
    "    confidence = []\n",
    "    # loop over the test data\n",
    "    for i in range(0, len(testX)):\n",
    "        # classify the face and update the list of predictions and confidence scores\n",
    "        (prediction, conf) = recognizer.predict(testX[i])\n",
    "        predictions.append(prediction)\n",
    "        confidence.append(conf)\n",
    "        pred_name = le.inverse_transform([predictions[i]])[0]\n",
    "        actual_name = le.classes_[testY[i]]\n",
    "        # confidence of the prediction (i.e., chi-squared distance; the *lower* the distance is the *more confident* the prediction is)\n",
    "        print(\"[INFO] prediction: {}, actual: {}, confidence: {:.2f}\".format( pred_name, actual_name, confidence[i]))\n",
    "    # show the classification report\n",
    "    print(\"Classification report:\\n\", classification_report(testY, predictions, target_names=le.classes_))"
   ]
  },
  {
   "cell_type": "code",
   "execution_count": null,
   "id": "6da4fed4",
   "metadata": {},
   "outputs": [],
   "source": [
    "folder_path = \"folder path\"\n",
    "\n",
    "# load face dataset\n",
    "(faces, labels) = load_face_dataset(folder_path)\n",
    "# encode the string labels as integers\n",
    "le = LabelEncoder()\n",
    "labels = le.fit_transform(labels)\n",
    "# construct our training and testing split\n",
    "(trainX, testX, trainY, testY) = train_test_split(faces, labels, test_size=0.25, stratify=labels, random_state=42)\n",
    "\n",
    "# LBPH face recognition\n",
    "recognize_LBPH(trainX, trainY, testX, testY)"
   ]
  },
  {
   "cell_type": "code",
   "execution_count": null,
   "id": "b270c15c",
   "metadata": {},
   "outputs": [],
   "source": []
  }
 ],
 "metadata": {
  "kernelspec": {
   "display_name": "Python 3 (ipykernel)",
   "language": "python",
   "name": "python3"
  },
  "language_info": {
   "codemirror_mode": {
    "name": "ipython",
    "version": 3
   },
   "file_extension": ".py",
   "mimetype": "text/x-python",
   "name": "python",
   "nbconvert_exporter": "python",
   "pygments_lexer": "ipython3",
   "version": "3.10.11"
  }
 },
 "nbformat": 4,
 "nbformat_minor": 5
}
